{
 "cells": [
  {
   "cell_type": "code",
   "execution_count": 7,
   "id": "a1e51b73-9428-4920-8f4d-47577d8a40a0",
   "metadata": {},
   "outputs": [
    {
     "name": "stdout",
     "output_type": "stream",
     "text": [
      "a0 = 4.63\n",
      "a1 = 1.66\n",
      "a2 = -0.74\n"
     ]
    }
   ],
   "source": [
    "import numpy as np\n",
    "\n",
    "def solveLeastSquares(x1, x2, y):\n",
    "    n = len(x1)\n",
    "\n",
    "    sumX1 = sum(x1)\n",
    "    sumX2 = sum(x2)\n",
    "    sumY = sum(y)\n",
    "    sumX1X1 = sum(x * x for x in x1)\n",
    "    sumX2X2 = sum(x * x for x in x2)\n",
    "    sumX1X2 = sum(x1[i] * x2[i] for i in range(n))\n",
    "    sumX1Y = sum(x1[i] * y[i] for i in range(n))\n",
    "    sumX2Y = sum(x2[i] * y[i] for i in range(n))\n",
    "\n",
    "\n",
    "    A = np.array([[n, sumX1, sumX2],\n",
    "                  [sumX1, sumX1X1, sumX1X2],\n",
    "                  [sumX2, sumX1X2, sumX2X2]])\n",
    "    \n",
    "    B = np.array([sumY, sumX1Y, sumX2Y])\n",
    "\n",
    "\n",
    "    def gauss(A, B):\n",
    "        n = len(B)\n",
    "        for i in range(n):\n",
    "           \n",
    "            maxRow = i\n",
    "            for k in range(i + 1, n):\n",
    "                if abs(A[k][i]) > abs(A[maxRow][i]):\n",
    "                    maxRow = k\n",
    "\n",
    "            A[[i, maxRow]] = A[[maxRow, i]]\n",
    "            B[i], B[maxRow] = B[maxRow], B[i]\n",
    "\n",
    "            for k in range(i + 1, n):\n",
    "                factor = A[k][i] / A[i][i]\n",
    "                B[k] -= factor * B[i]\n",
    "                A[k, i:] -= factor * A[i, i:]\n",
    "\n",
    "        \n",
    "        x = np.zeros(n)\n",
    "        for i in range(n - 1, -1, -1):\n",
    "            x[i] = (B[i] - np.dot(A[i, i + 1:], x[i + 1:])) / A[i][i]\n",
    "        return x\n",
    "\n",
    "    \n",
    "    a0, a1, a2 = gauss(A, B)\n",
    "\n",
    "    print(f\"a0 = {a0:.2f}\")\n",
    "    print(f\"a1 = {a1:.2f}\")\n",
    "    print(f\"a2 = {a2:.2f}\")\n",
    "\n",
    "\n",
    "x1 = [0, 0, 0, 1, 1, 2, 2, 2]\n",
    "x2 = [1.5, 2.5, 3.5, 1.5, 3.5, 1.5, 2.5, 2.5]\n",
    "y = [2.3, 6.4, 1.2, 3.4, 2.4, 7.7, 5.7, 7.2]\n",
    "\n",
    "solveLeastSquares(x1, x2, y)\n"
   ]
  },
  {
   "cell_type": "code",
   "execution_count": null,
   "id": "fea858dc-ea0d-424a-b48c-dc562a53d435",
   "metadata": {},
   "outputs": [],
   "source": []
  }
 ],
 "metadata": {
  "kernelspec": {
   "display_name": "Python 3 (ipykernel)",
   "language": "python",
   "name": "python3"
  },
  "language_info": {
   "codemirror_mode": {
    "name": "ipython",
    "version": 3
   },
   "file_extension": ".py",
   "mimetype": "text/x-python",
   "name": "python",
   "nbconvert_exporter": "python",
   "pygments_lexer": "ipython3",
   "version": "3.12.3"
  }
 },
 "nbformat": 4,
 "nbformat_minor": 5
}
